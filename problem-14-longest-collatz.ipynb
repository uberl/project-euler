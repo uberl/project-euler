{
 "cells": [
  {
   "cell_type": "markdown",
   "metadata": {},
   "source": [
    "https://projecteuler.net/problem=14\n"
   ]
  },
  {
   "cell_type": "code",
   "execution_count": 1,
   "metadata": {},
   "outputs": [],
   "source": [
    "import math"
   ]
  },
  {
   "cell_type": "code",
   "execution_count": 2,
   "metadata": {},
   "outputs": [],
   "source": [
    "def collatz(n: int) -> int:\n",
    "    if n % 2 == 0:\n",
    "        return n / 2\n",
    "    else:\n",
    "        return 3 * n + 1"
   ]
  },
  {
   "cell_type": "code",
   "execution_count": 16,
   "metadata": {},
   "outputs": [],
   "source": [
    "cache = {}\n",
    "\n",
    "\n",
    "def simple_cache(func):\n",
    "\n",
    "    def wrapper(arg):\n",
    "        if arg in cache:\n",
    "            return cache[arg]\n",
    "        else:\n",
    "            result = func(arg)\n",
    "            cache[arg] = result\n",
    "            return result\n",
    "\n",
    "    return wrapper\n",
    "\n",
    "\n",
    "@simple_cache\n",
    "def time_to_one(n: int) -> int:\n",
    "    if n == 1:\n",
    "        return 0\n",
    "    else:\n",
    "        return time_to_one(collatz(n)) + 1"
   ]
  },
  {
   "cell_type": "code",
   "execution_count": 17,
   "metadata": {},
   "outputs": [
    {
     "name": "stdout",
     "output_type": "stream",
     "text": [
      "New longest chain starting from 2 with length 1\n",
      "New longest chain starting from 3 with length 7\n",
      "New longest chain starting from 6 with length 8\n",
      "New longest chain starting from 7 with length 16\n",
      "New longest chain starting from 9 with length 19\n",
      "New longest chain starting from 18 with length 20\n",
      "New longest chain starting from 25 with length 23\n",
      "New longest chain starting from 27 with length 111\n",
      "New longest chain starting from 54 with length 112\n",
      "New longest chain starting from 73 with length 115\n",
      "New longest chain starting from 97 with length 118\n",
      "New longest chain starting from 129 with length 121\n",
      "New longest chain starting from 171 with length 124\n",
      "New longest chain starting from 231 with length 127\n",
      "New longest chain starting from 313 with length 130\n",
      "New longest chain starting from 327 with length 143\n",
      "New longest chain starting from 649 with length 144\n",
      "New longest chain starting from 703 with length 170\n",
      "New longest chain starting from 871 with length 178\n",
      "New longest chain starting from 1161 with length 181\n",
      "New longest chain starting from 2223 with length 182\n",
      "New longest chain starting from 2463 with length 208\n",
      "New longest chain starting from 2919 with length 216\n",
      "New longest chain starting from 3711 with length 237\n",
      "New longest chain starting from 6171 with length 261\n",
      "New longest chain starting from 10971 with length 267\n",
      "New longest chain starting from 13255 with length 275\n",
      "New longest chain starting from 17647 with length 278\n",
      "New longest chain starting from 23529 with length 281\n",
      "New longest chain starting from 26623 with length 307\n",
      "New longest chain starting from 34239 with length 310\n",
      "New longest chain starting from 35655 with length 323\n",
      "New longest chain starting from 52527 with length 339\n",
      "New longest chain starting from 77031 with length 350\n",
      "New longest chain starting from 106239 with length 353\n",
      "New longest chain starting from 142587 with length 374\n",
      "New longest chain starting from 156159 with length 382\n",
      "New longest chain starting from 216367 with length 385\n",
      "New longest chain starting from 230631 with length 442\n",
      "New longest chain starting from 410011 with length 448\n",
      "New longest chain starting from 511935 with length 469\n",
      "New longest chain starting from 626331 with length 508\n",
      "New longest chain starting from 837799 with length 524\n"
     ]
    }
   ],
   "source": [
    "UPPER_LIMIT = 1000000\n",
    "\n",
    "max = 0\n",
    "start = 1\n",
    "\n",
    "for n in range(1, UPPER_LIMIT):\n",
    "    tt1 = time_to_one(n)\n",
    "    if tt1 > max:\n",
    "        max = tt1\n",
    "        start = n\n",
    "        print(f\"New longest chain starting from {n} with length {tt1}\")"
   ]
  }
 ],
 "metadata": {
  "kernelspec": {
   "display_name": "Python 3",
   "language": "python",
   "name": "python3"
  },
  "language_info": {
   "codemirror_mode": {
    "name": "ipython",
    "version": 3
   },
   "file_extension": ".py",
   "mimetype": "text/x-python",
   "name": "python",
   "nbconvert_exporter": "python",
   "pygments_lexer": "ipython3",
   "version": "3.10.12"
  }
 },
 "nbformat": 4,
 "nbformat_minor": 2
}
