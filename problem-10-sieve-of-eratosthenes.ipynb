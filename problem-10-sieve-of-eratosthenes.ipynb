{
 "cells": [
  {
   "cell_type": "markdown",
   "metadata": {},
   "source": [
    "https://projecteuler.net/problem=10\n"
   ]
  },
  {
   "cell_type": "code",
   "execution_count": 10,
   "metadata": {},
   "outputs": [],
   "source": [
    "import math"
   ]
  },
  {
   "cell_type": "code",
   "execution_count": 19,
   "metadata": {},
   "outputs": [
    {
     "data": {
      "text/plain": [
       "142913828922"
      ]
     },
     "execution_count": 19,
     "metadata": {},
     "output_type": "execute_result"
    }
   ],
   "source": [
    "UPPER_BOUND = 2000000\n",
    "\n",
    "is_prime = [True] * UPPER_BOUND\n",
    "\n",
    "is_prime[0] = is_prime[1] = False\n",
    "\n",
    "for n in range(2, int(UPPER_BOUND**0.5) + 1):\n",
    "    if is_prime[n]:\n",
    "        for multiple in range(n * n, UPPER_BOUND, n):\n",
    "            is_prime[multiple] = False\n",
    "\n",
    "\n",
    "sum(i for i in range(2, UPPER_BOUND) if is_prime[i])"
   ]
  }
 ],
 "metadata": {
  "kernelspec": {
   "display_name": "Python 3",
   "language": "python",
   "name": "python3"
  },
  "language_info": {
   "codemirror_mode": {
    "name": "ipython",
    "version": 3
   },
   "file_extension": ".py",
   "mimetype": "text/x-python",
   "name": "python",
   "nbconvert_exporter": "python",
   "pygments_lexer": "ipython3",
   "version": "3.10.12"
  }
 },
 "nbformat": 4,
 "nbformat_minor": 2
}
