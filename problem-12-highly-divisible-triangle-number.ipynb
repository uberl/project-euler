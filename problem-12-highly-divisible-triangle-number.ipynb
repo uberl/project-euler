{
 "cells": [
  {
   "cell_type": "markdown",
   "metadata": {},
   "source": [
    "https://projecteuler.net/problem=12\n"
   ]
  },
  {
   "cell_type": "code",
   "execution_count": 7,
   "metadata": {},
   "outputs": [
    {
     "data": {
      "text/plain": [
       "76576500"
      ]
     },
     "execution_count": 7,
     "metadata": {},
     "output_type": "execute_result"
    }
   ],
   "source": [
    "from sympy import divisors\n",
    "\n",
    "\n",
    "def number_of_divisors(n: int) -> int:\n",
    "    return len(divisors(n))\n",
    "\n",
    "\n",
    "triangle_number = 1\n",
    "iterator = 1\n",
    "\n",
    "while number_of_divisors(triangle_number) < 500:\n",
    "    iterator += 1\n",
    "    triangle_number += iterator\n",
    "\n",
    "triangle_number"
   ]
  }
 ],
 "metadata": {
  "kernelspec": {
   "display_name": "Python 3",
   "language": "python",
   "name": "python3"
  },
  "language_info": {
   "codemirror_mode": {
    "name": "ipython",
    "version": 3
   },
   "file_extension": ".py",
   "mimetype": "text/x-python",
   "name": "python",
   "nbconvert_exporter": "python",
   "pygments_lexer": "ipython3",
   "version": "3.10.12"
  }
 },
 "nbformat": 4,
 "nbformat_minor": 2
}
