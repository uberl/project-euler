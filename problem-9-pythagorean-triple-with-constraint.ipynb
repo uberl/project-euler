{
 "cells": [
  {
   "cell_type": "markdown",
   "metadata": {},
   "source": [
    "https://projecteuler.net/problem=9\n"
   ]
  },
  {
   "cell_type": "code",
   "execution_count": 2,
   "metadata": {},
   "outputs": [],
   "source": [
    "import math"
   ]
  },
  {
   "cell_type": "code",
   "execution_count": 11,
   "metadata": {},
   "outputs": [
    {
     "name": "stdout",
     "output_type": "stream",
     "text": [
      "a: 200 b: 375.0 c:425.0 a+b+c: 1000.0\n",
      "a*b*c: 31875000.0\n",
      "a: 375 b: 200.0 c:425.0 a+b+c: 1000.0\n",
      "a*b*c: 31875000.0\n"
     ]
    }
   ],
   "source": [
    "for a in range(1, 1000):\n",
    "    b = 1000 * (500 - a) / (1000 - a)\n",
    "    c = 1000 - a - b\n",
    "    if b.is_integer() and c.is_integer() and b > 1:\n",
    "        print(f\"a: {a} b: {b} c:{c} a+b+c: {a+b+c}\")\n",
    "        print(f\"a*b*c: {a*b*c}\")"
   ]
  }
 ],
 "metadata": {
  "kernelspec": {
   "display_name": "Python 3",
   "language": "python",
   "name": "python3"
  },
  "language_info": {
   "codemirror_mode": {
    "name": "ipython",
    "version": 3
   },
   "file_extension": ".py",
   "mimetype": "text/x-python",
   "name": "python",
   "nbconvert_exporter": "python",
   "pygments_lexer": "ipython3",
   "version": "3.10.12"
  }
 },
 "nbformat": 4,
 "nbformat_minor": 2
}
