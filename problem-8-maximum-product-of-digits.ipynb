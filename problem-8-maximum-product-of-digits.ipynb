{
 "cells": [
  {
   "cell_type": "code",
   "execution_count": 24,
   "metadata": {},
   "outputs": [],
   "source": [
    "import math"
   ]
  },
  {
   "cell_type": "markdown",
   "metadata": {},
   "source": [
    "[https://projecteuler.net/problem=8](https://projecteuler.net/problem=8)\n"
   ]
  },
  {
   "cell_type": "code",
   "execution_count": 25,
   "metadata": {},
   "outputs": [],
   "source": [
    "long_number = \"7316717653133062491922511967442657474235534919493496983520312774506326239578318016984801869478851843858615607891129494954595017379583319528532088055111254069874715852386305071569329096329522744304355766896648950445244523161731856403098711121722383113622298934233803081353362766142828064444866452387493035890729629049156044077239071381051585930796086670172427121883998797908792274921901699720888093776657273330010533678812202354218097512545405947522435258490771167055601360483958644670632441572215539753697817977846174064955149290862569321978468622482839722413756570560574902614079729686524145351004748216637048440319989000889524345065854122758866688116427171479924442928230863465674813919123162824586178664583591245665294765456828489128831426076900422421902267105562632111110937054421750694165896040807198403850962455444362981230987879927244284909188845801561660979191338754992005240636899125607176060588611646710940507754100225698315520005593572972571636269561882670428252483600823257530420752963450\""
   ]
  },
  {
   "cell_type": "code",
   "execution_count": 26,
   "metadata": {},
   "outputs": [
    {
     "name": "stdout",
     "output_type": "stream",
     "text": [
      "New Maximum: 5000940 with digits: 7316717653133\n",
      "New Maximum: 9797760 with digits: 4919225119674\n",
      "New Maximum: 13063680 with digits: 9225119674426\n",
      "New Maximum: 25401600 with digits: 2511967442657\n",
      "New Maximum: 50803200 with digits: 5119674426574\n",
      "New Maximum: 71124480 with digits: 1196744265747\n",
      "New Maximum: 284497920 with digits: 1967442657474\n",
      "New Maximum: 568995840 with digits: 9674426574742\n",
      "New Maximum: 1020366720 with digits: 5349194934969\n",
      "New Maximum: 1632586752 with digits: 3491949349698\n",
      "New Maximum: 2040733440 with digits: 9194934969835\n",
      "New Maximum: 2972712960 with digits: 8694788518438\n",
      "New Maximum: 6270566400 with digits: 4355766896648\n",
      "New Maximum: 14108774400 with digits: 3557668966489\n",
      "New Maximum: 23514624000 with digits: 5576689664895\n"
     ]
    }
   ],
   "source": [
    "maximum = 0\n",
    "\n",
    "for i in range(len(long_number) - 12):\n",
    "    current_digits = long_number[i : i + 13]\n",
    "    prod = math.prod(int(digit) for digit in current_digits)\n",
    "    \n",
    "    if prod > maximum:\n",
    "        maximum = prod\n",
    "        print(f\"New Maximum: {maximum} with digits: {current_digits}\")"
   ]
  },
  {
   "cell_type": "code",
   "execution_count": null,
   "metadata": {},
   "outputs": [],
   "source": []
  }
 ],
 "metadata": {
  "kernelspec": {
   "display_name": "Python 3",
   "language": "python",
   "name": "python3"
  },
  "language_info": {
   "codemirror_mode": {
    "name": "ipython",
    "version": 3
   },
   "file_extension": ".py",
   "mimetype": "text/x-python",
   "name": "python",
   "nbconvert_exporter": "python",
   "pygments_lexer": "ipython3",
   "version": "3.10.12"
  }
 },
 "nbformat": 4,
 "nbformat_minor": 2
}
