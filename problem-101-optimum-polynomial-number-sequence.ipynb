{
 "cells": [
  {
   "cell_type": "markdown",
   "metadata": {},
   "source": [
    "https://projecteuler.net/problem=101\n"
   ]
  },
  {
   "cell_type": "code",
   "execution_count": 20,
   "metadata": {},
   "outputs": [],
   "source": [
    "from functools import reduce\n",
    "import math"
   ]
  },
  {
   "cell_type": "code",
   "execution_count": 102,
   "metadata": {},
   "outputs": [],
   "source": [
    "# 1 + x - x² + ... - x**10\n",
    "gen = [1, -1, 1, -1, 1, -1, 1, -1, 1, -1, 1]\n",
    "# gen = [0, 0, 0, 1]\n",
    "\n",
    "\n",
    "def eval(pol, n):\n",
    "    return reduce(lambda sum, x: x[1] * n ** x[0] + sum, enumerate(pol), 0)\n",
    "\n",
    "\n",
    "def lagrange_polynomial(deg, at, x):\n",
    "    indices = list(range(1, deg + 2))\n",
    "    indices.remove(at)\n",
    "\n",
    "    return math.prod(x - j for j in indices) / math.prod(at - j for j in indices)\n",
    "\n",
    "\n",
    "def optimum_polynomial(deg, x):\n",
    "    return sum(\n",
    "        eval(gen, at) * lagrange_polynomial(deg, at, x) for at in range(1, deg + 2)\n",
    "    )"
   ]
  },
  {
   "cell_type": "code",
   "execution_count": 104,
   "metadata": {},
   "outputs": [
    {
     "data": {
      "text/plain": [
       "[1, 683, 44287, 838861, 8138021, 51828151, 247165843, 954437177, 3138105961]"
      ]
     },
     "execution_count": 104,
     "metadata": {},
     "output_type": "execute_result"
    }
   ],
   "source": [
    "[eval(gen, x) for x in range(1, len(gen) - 1)]"
   ]
  },
  {
   "cell_type": "code",
   "execution_count": 105,
   "metadata": {},
   "outputs": [
    {
     "data": {
      "text/plain": [
       "37076114526.0"
      ]
     },
     "execution_count": 105,
     "metadata": {},
     "output_type": "execute_result"
    }
   ],
   "source": [
    "sum(optimum_polynomial(i, i + 2) for i in range(len(gen) - 1))"
   ]
  }
 ],
 "metadata": {
  "kernelspec": {
   "display_name": "Python 3",
   "language": "python",
   "name": "python3"
  },
  "language_info": {
   "codemirror_mode": {
    "name": "ipython",
    "version": 3
   },
   "file_extension": ".py",
   "mimetype": "text/x-python",
   "name": "python",
   "nbconvert_exporter": "python",
   "pygments_lexer": "ipython3",
   "version": "3.10.12"
  }
 },
 "nbformat": 4,
 "nbformat_minor": 2
}
